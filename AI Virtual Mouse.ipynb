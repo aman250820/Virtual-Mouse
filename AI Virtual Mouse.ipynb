{
 "cells": [
  {
   "cell_type": "code",
   "execution_count": 1,
   "metadata": {},
   "outputs": [],
   "source": [
    "import cv2\n",
    "import time\n",
    "import numpy as np\n",
    "import autopy\n",
    "import ipynb.fs.full.handTrackingModule2  as htm"
   ]
  },
  {
   "cell_type": "code",
   "execution_count": 4,
   "metadata": {},
   "outputs": [
    {
     "name": "stdout",
     "output_type": "stream",
     "text": [
      "1536.0 864.0\n"
     ]
    }
   ],
   "source": [
    "wCam,hCam = 640,480 \n",
    "wScr,hScr = autopy.screen.size()\n",
    "pTime =0\n",
    "frameR =100\n",
    "smoothening =7\n",
    "pLocx,pLocy =0,0\n",
    "print(wScr,hScr)"
   ]
  },
  {
   "cell_type": "code",
   "execution_count": 3,
   "metadata": {},
   "outputs": [],
   "source": [
    "cap =cv2.VideoCapture(0)\n",
    "cap.set(3,wCam)\n",
    "cap.set(4,hCam)\n",
    "detector = htm.HandDetector(maxHands =1)\n",
    "while True:\n",
    "    # 1. Find the hand landmarks\n",
    "    success,img = cap.read()\n",
    "    img = detector.findHands(img)\n",
    "    lmList,bbox = detector.findPositions(img)\n",
    "    \n",
    "    # 2. Get the tip of the index and middle fingers\n",
    "    if len(lmList)!=0:\n",
    "        x1,y1 = lmList[8][1:]\n",
    "        x2,y2 = lmList[12][1:]\n",
    "        cv2.rectangle(img,(frameR,frameR),(wCam-frameR,hCam-frameR),(255,0,255),2)\n",
    "        # print(x1,y1,x2,y2)\n",
    "    # 3. chk which fingers are up\n",
    "        fingers = detector.fingersUp()\n",
    "        # print(fingers)\n",
    "        \n",
    "    # 4. Only index finger : Moving mode\n",
    "        if fingers[1]==1 and fingers[2]==0:\n",
    "            \n",
    "        # 5. Convert coordinates\n",
    "            \n",
    "            x3 = np.interp(x1,(frameR,wCam-frameR),(0,wScr))\n",
    "            y3 = np.interp(y1,(frameR,hCam-frameR),(0,hScr))\n",
    "        \n",
    "    # 6. Smooth Values\n",
    "            cLocx = pLocx + (x3-pLocx)/smoothening\n",
    "            cLocy = pLocy + (y3-pLocy)/smoothening\n",
    "    # 7. Move Mouse\n",
    "            autopy.mouse.move(wScr - cLocx,cLocy)\n",
    "            cv2.circle(img,(x1,y1),15,(255,0,255),cv2.FILLED)\n",
    "            pLocx,pLocy = cLocx,cLocy\n",
    "    # 8. Both Inde and middle fingers are up : Clicking Mode\n",
    "        if fingers[1]==1 and fingers[2]==1:\n",
    "            \n",
    "        # 9. Find distance between the fingers\n",
    "            length,img,info = detector.findDistance(8,12,img)\n",
    "            # print(length)\n",
    "        # 10. clk mouse if distance is short\n",
    "            if length <40:\n",
    "                cv2.circle(img,(info[4],info[5]),15,(0,255,0),cv2.FILLED)\n",
    "                autopy.mouse.click()\n",
    "        \n",
    "        \n",
    "    cTime = time.time()\n",
    "    fps = 1/(cTime -pTime)\n",
    "    pTime =cTime\n",
    "    \n",
    "    cv2.putText(img,str(int(fps)) , (10,70),cv2.FONT_HERSHEY_PLAIN, 3,(255,0,255),3) # printing the fps\n",
    "    cv2.imshow(\"Image\",img)\n",
    "    k = cv2.waitKey(1)\n",
    "    if(k==27):\n",
    "        break\n",
    "cap.release()\n",
    "cv2.destroyAllWindows()"
   ]
  },
  {
   "cell_type": "code",
   "execution_count": null,
   "metadata": {},
   "outputs": [],
   "source": []
  },
  {
   "cell_type": "code",
   "execution_count": null,
   "metadata": {},
   "outputs": [],
   "source": []
  }
 ],
 "metadata": {
  "kernelspec": {
   "display_name": "Python 3",
   "language": "python",
   "name": "python3"
  },
  "language_info": {
   "codemirror_mode": {
    "name": "ipython",
    "version": 3
   },
   "file_extension": ".py",
   "mimetype": "text/x-python",
   "name": "python",
   "nbconvert_exporter": "python",
   "pygments_lexer": "ipython3",
   "version": "3.7.6"
  }
 },
 "nbformat": 4,
 "nbformat_minor": 4
}
